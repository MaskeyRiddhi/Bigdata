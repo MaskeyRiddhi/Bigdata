{
  "nbformat": 4,
  "nbformat_minor": 0,
  "metadata": {
    "colab": {
      "provenance": [],
      "authorship_tag": "ABX9TyOU2j8u2Wv9JpHIvXlrKM8d",
      "include_colab_link": true
    },
    "kernelspec": {
      "name": "python3",
      "display_name": "Python 3"
    },
    "language_info": {
      "name": "python"
    }
  },
  "cells": [
    {
      "cell_type": "markdown",
      "metadata": {
        "id": "view-in-github",
        "colab_type": "text"
      },
      "source": [
        "<a href=\"https://colab.research.google.com/github/MaskeyRiddhi/Bigdata/blob/main/WorkshopOne.ipynb\" target=\"_parent\"><img src=\"https://colab.research.google.com/assets/colab-badge.svg\" alt=\"Open In Colab\"/></a>"
      ]
    },
    {
      "cell_type": "markdown",
      "source": [
        "Standard Input and Output"
      ],
      "metadata": {
        "id": "_v_TthgALs2U"
      }
    },
    {
      "cell_type": "code",
      "execution_count": null,
      "metadata": {
        "colab": {
          "base_uri": "https://localhost:8080/"
        },
        "id": "KQ7lAkEkLZE9",
        "outputId": "ed5d317e-4637-4e66-9fe9-cbae3b2f5f4b"
      },
      "outputs": [
        {
          "name": "stdout",
          "output_type": "stream",
          "text": [
            "Please Enter Your First Name: Riddhi\n"
          ]
        }
      ],
      "source": [
        "\"\"\"To ask a value from the end user and store it to reuse later, first take a variable and store the value.\n",
        "The \"input\" keyword helps to take value from the end user \"\"\"\n",
        "first_name = input(\"Please Enter Your First Name: \")"
      ]
    },
    {
      "cell_type": "code",
      "source": [
        "\"\"\"To show the output python has a keyword \"print\" which prints the output\"\"\"\n",
        "print(first_name)"
      ],
      "metadata": {
        "colab": {
          "base_uri": "https://localhost:8080/"
        },
        "id": "PpZ9sL0QLz5l",
        "outputId": "9166c98e-e2a3-470d-ab15-bf350f6a4fff"
      },
      "execution_count": null,
      "outputs": [
        {
          "output_type": "stream",
          "name": "stdout",
          "text": [
            "Riddhi\n"
          ]
        }
      ]
    },
    {
      "cell_type": "markdown",
      "source": [
        "Control Structure"
      ],
      "metadata": {
        "id": "LfyV05PcL697"
      }
    },
    {
      "cell_type": "code",
      "source": [
        "\"\"\"Here we are asking user to enter a value and checks if its negative, non-negative or positive\n",
        "by the control structure\"\"\"\n",
        "value = int(input(\"Please Enter a Number: \")) #input keyword always takes any value as a string. Thus, we use int() function\n",
        "#it is called casting. It converts a value to different data types\n",
        "if value < 0:\n",
        "  print('The number is negative')\n",
        "elif value == 0:\n",
        "  print('The number is non-negative')\n",
        "else:\n",
        "  print('The number is positive')"
      ],
      "metadata": {
        "colab": {
          "base_uri": "https://localhost:8080/"
        },
        "id": "-MrZbL6rL8sb",
        "outputId": "eae63e3a-0dcc-4cc8-d712-3d96c42505b7"
      },
      "execution_count": null,
      "outputs": [
        {
          "output_type": "stream",
          "name": "stdout",
          "text": [
            "Please Enter a Number: 8\n",
            "The number is positive\n"
          ]
        }
      ]
    },
    {
      "cell_type": "markdown",
      "source": [
        "Loops"
      ],
      "metadata": {
        "id": "HiRV1hDwMPUj"
      }
    },
    {
      "cell_type": "code",
      "source": [
        "\"\"\"Find the sum of all integers from 1 to 10 using while loop\"\"\"\n",
        "total = 0\n",
        "counter = 1\n",
        "while counter <= 10: #stopping condition\n",
        "  total = total + counter #sum\n",
        "  counter += 1 #increament\n",
        "print(total)"
      ],
      "metadata": {
        "colab": {
          "base_uri": "https://localhost:8080/"
        },
        "id": "DNiEmjv0MQtn",
        "outputId": "2288881b-5ea0-40a0-c26b-7b688d5f2dbe"
      },
      "execution_count": null,
      "outputs": [
        {
          "output_type": "stream",
          "name": "stdout",
          "text": [
            "55\n"
          ]
        }
      ]
    },
    {
      "cell_type": "code",
      "source": [
        "\"\"\"Find the sum of all integers from 1 to 10 using for loop\"\"\"\n",
        "total = 0\n",
        "for counter in range(1, 11, 1): #initialize, stopping condition, increament.\n",
        "  total = total+ counter\n",
        "print(total)"
      ],
      "metadata": {
        "colab": {
          "base_uri": "https://localhost:8080/"
        },
        "id": "_xZjpg72MVEv",
        "outputId": "b036bc27-926d-483a-bf29-421dc622f644"
      },
      "execution_count": null,
      "outputs": [
        {
          "output_type": "stream",
          "name": "stdout",
          "text": [
            "55\n"
          ]
        }
      ]
    },
    {
      "cell_type": "markdown",
      "source": [
        "List Modification"
      ],
      "metadata": {
        "id": "WTK4ncLOMdhH"
      }
    },
    {
      "cell_type": "code",
      "source": [
        "\"\"\"A list can be created using a comma-separated sequence within square brackets\"\"\"\n",
        "first_list = [1, 2, 3, 8]"
      ],
      "metadata": {
        "id": "fAUBcDweMjvW"
      },
      "execution_count": null,
      "outputs": []
    },
    {
      "cell_type": "code",
      "source": [
        "\"\"\"In a list, the individual items can be accessed by subscript/index:\"\"\"\n",
        "print(\"First value of the list is \", first_list[0])\n",
        "print(\"Last value of the list is \", first_list[-1])"
      ],
      "metadata": {
        "colab": {
          "base_uri": "https://localhost:8080/"
        },
        "id": "7T3xQDEZM2MZ",
        "outputId": "e33c4a38-b5c6-488d-a32a-6636838e9309"
      },
      "execution_count": null,
      "outputs": [
        {
          "output_type": "stream",
          "name": "stdout",
          "text": [
            "First value of the list is  1\n",
            "Last value of the list is  8\n"
          ]
        }
      ]
    },
    {
      "cell_type": "code",
      "source": [
        "\"\"\"The elements of a list can also be accessed by traversing the list using the iterator mechanism:\"\"\"\n",
        "for values in first_list:\n",
        "  print(values)"
      ],
      "metadata": {
        "colab": {
          "base_uri": "https://localhost:8080/"
        },
        "id": "hdqg80dKM7sq",
        "outputId": "6bef572e-399e-4f09-a6cb-7b236cc118c8"
      },
      "execution_count": null,
      "outputs": [
        {
          "output_type": "stream",
          "name": "stdout",
          "text": [
            "1\n",
            "2\n",
            "3\n",
            "8\n"
          ]
        }
      ]
    },
    {
      "cell_type": "markdown",
      "source": [
        "Other list operations"
      ],
      "metadata": {
        "id": "9YxZqEPeNCCf"
      }
    },
    {
      "cell_type": "code",
      "source": [
        "#append\n",
        "first_list.append(10)\n",
        "print(\"After adding another element in the list, the list is \", first_list)\n",
        "\n",
        "#modify\n",
        "first_list[2] = 5\n",
        "print(\"After modifying an element in the list, the list is \", first_list)\n",
        "\n",
        "#insert: elements can be inserted in any positon/index\n",
        "first_list.insert(2, 12)\n",
        "print(\"After inserting an element in the list in the third position, the list is \", first_list)"
      ],
      "metadata": {
        "colab": {
          "base_uri": "https://localhost:8080/"
        },
        "id": "N8vwr-GVNHmH",
        "outputId": "5c7206b5-de0e-4f8e-ff47-b020b3d5d6b3"
      },
      "execution_count": null,
      "outputs": [
        {
          "output_type": "stream",
          "name": "stdout",
          "text": [
            "After adding another element in the list, the list is  [1, 2, 3, 8, 10]\n",
            "After modifying an element in the list, the list is  [1, 2, 5, 8, 10]\n",
            "After inserting an element in the list in the third position, the list is  [1, 2, 12, 5, 8, 10]\n"
          ]
        }
      ]
    },
    {
      "cell_type": "markdown",
      "source": [
        "Dictionary Modification"
      ],
      "metadata": {
        "id": "K_PRqsgTNSnN"
      }
    },
    {
      "cell_type": "code",
      "source": [
        "\"\"\"There are lot of ways to access elements of the dictionary. However, we will parctice the most common one.\n",
        "The traversal using the iterator mechanism (for statement) is made over the keys in a dictionary\"\"\"\n",
        "zipCode = {'London':290, 'Leeds':578, 'Wolverhampton':911}\n",
        "for key in zipCode:\n",
        "  print(key, '= ', zipCode[key])"
      ],
      "metadata": {
        "colab": {
          "base_uri": "https://localhost:8080/"
        },
        "id": "Dyi3yIeFNV9Z",
        "outputId": "d968f560-692a-45af-b5ee-df034c77e341"
      },
      "execution_count": null,
      "outputs": [
        {
          "output_type": "stream",
          "name": "stdout",
          "text": [
            "London =  290\n",
            "Leeds =  578\n",
            "Wolverhampton =  911\n"
          ]
        }
      ]
    },
    {
      "cell_type": "code",
      "source": [
        "\"\"\"To explicitely find the list of keys or list value we can use the following\"\"\"\n",
        "key_list = zipCode.keys()\n",
        "value_list = zipCode.values()\n",
        "print(key_list)\n",
        "print(value_list)"
      ],
      "metadata": {
        "colab": {
          "base_uri": "https://localhost:8080/"
        },
        "id": "gk02UDm8NbR1",
        "outputId": "33828de7-19dc-4e2a-f4af-8321f83088ba"
      },
      "execution_count": null,
      "outputs": [
        {
          "output_type": "stream",
          "name": "stdout",
          "text": [
            "dict_keys(['London', 'Leeds', 'Wolverhampton'])\n",
            "dict_values([290, 578, 911])\n"
          ]
        }
      ]
    },
    {
      "cell_type": "code",
      "source": [
        "\"\"\"To change the value of a corresponding key we can do the following\"\"\"\n",
        "zipCode['London'] = 666\n",
        "for key in zipCode:\n",
        "  print(key, '= ', zipCode[key])"
      ],
      "metadata": {
        "colab": {
          "base_uri": "https://localhost:8080/"
        },
        "id": "9ZUck1XRNdeQ",
        "outputId": "b71d6d19-9707-462e-9b18-ecb8e775b3b0"
      },
      "execution_count": null,
      "outputs": [
        {
          "output_type": "stream",
          "name": "stdout",
          "text": [
            "London =  666\n",
            "Leeds =  578\n",
            "Wolverhampton =  911\n"
          ]
        }
      ]
    },
    {
      "cell_type": "code",
      "source": [
        "\"\"\"Using the same technique we can add another entry. However, the key must be unique.\n",
        "Duplicate key name will modify the value only\"\"\"\n",
        "zipCode['Birmingham'] = 111\n",
        "for key in zipCode:\n",
        "  print(key, '= ', zipCode[key])"
      ],
      "metadata": {
        "colab": {
          "base_uri": "https://localhost:8080/"
        },
        "id": "PHI0BuWMNgmA",
        "outputId": "b5745db8-d4fc-4679-858f-ccd5b5bbe80a"
      },
      "execution_count": null,
      "outputs": [
        {
          "output_type": "stream",
          "name": "stdout",
          "text": [
            "London =  666\n",
            "Leeds =  578\n",
            "Wolverhampton =  911\n",
            "Birmingham =  111\n"
          ]
        }
      ]
    },
    {
      "cell_type": "markdown",
      "source": [
        "Functions"
      ],
      "metadata": {
        "id": "itLFi_V6NmbP"
      }
    },
    {
      "cell_type": "code",
      "source": [
        "def oddEven(num):\n",
        "  if num%2 == 0:\n",
        "    print('The number is even')\n",
        "  else:\n",
        "    print('The number is odd')\n",
        "  return\n",
        "num = int(input(\"Please Enter a Number: \"))\n",
        "oddEven(num)"
      ],
      "metadata": {
        "colab": {
          "base_uri": "https://localhost:8080/"
        },
        "id": "KRPNYIiLNoAR",
        "outputId": "1d206971-e0ba-4e76-ff94-19d0aaba5d0a"
      },
      "execution_count": null,
      "outputs": [
        {
          "output_type": "stream",
          "name": "stdout",
          "text": [
            "Please Enter a Number: 25\n",
            "The number is odd\n"
          ]
        }
      ]
    },
    {
      "cell_type": "markdown",
      "source": [
        "# Exercise on Loops"
      ],
      "metadata": {
        "id": "WJ4zF8nQO_B0"
      }
    },
    {
      "cell_type": "markdown",
      "source": [
        "*   Display Fibonacci series up to 10 terms.\n",
        "\n"
      ],
      "metadata": {
        "id": "XkySIwZWPItH"
      }
    },
    {
      "cell_type": "code",
      "source": [
        "terms = 10\n",
        "n1,n2=0,1\n",
        "count =0\n",
        "# check if the number of terms is valid\n",
        "if terms <= 0:\n",
        "   print(\"Please enter a positive integer\")\n",
        "# if there is only one term, return n1\n",
        "elif terms == 1:\n",
        "   print(\"Fibonacci sequence upto\",terms,\":\")\n",
        "   print(n1)\n",
        "# generate fibonacci sequence\n",
        "else:\n",
        "   print(\"Fibonacci sequence:\")\n",
        "   while count < terms:\n",
        "       print(n1)\n",
        "       nth = n1 + n2\n",
        "       # update values\n",
        "       n1 = n2\n",
        "       n2 = nth\n",
        "       count += 1"
      ],
      "metadata": {
        "colab": {
          "base_uri": "https://localhost:8080/"
        },
        "id": "zQdD5PLrPAAi",
        "outputId": "5e4efc9d-41e1-4524-a95b-c5fe55d04387",
        "collapsed": true
      },
      "execution_count": 21,
      "outputs": [
        {
          "output_type": "stream",
          "name": "stdout",
          "text": [
            "Fibonacci sequence:\n",
            "0\n",
            "1\n",
            "1\n",
            "2\n",
            "3\n",
            "5\n",
            "8\n",
            "13\n",
            "21\n",
            "34\n"
          ]
        }
      ]
    },
    {
      "cell_type": "markdown",
      "source": [
        "Find the factorial of a given number. Ask the user to provide the number."
      ],
      "metadata": {
        "id": "oX-hkuMWRWoO"
      }
    },
    {
      "cell_type": "code",
      "source": [
        "# To take input from the user\n",
        "num = int(input(\"Enter a number: \"))\n",
        "\n",
        "factorial = 1\n",
        "\n",
        "# check if the number is negative, positive or zero\n",
        "if num < 0:\n",
        "   print(\"Sorry, factorial does not exist for negative numbers\")\n",
        "elif num == 0:\n",
        "   print(\"The factorial of 0 is 1\")\n",
        "else:\n",
        "   for i in range(1,num + 1):\n",
        "       factorial = factorial*i\n",
        "   print(\"The factorial of\",num,\"is\",factorial)\n"
      ],
      "metadata": {
        "colab": {
          "base_uri": "https://localhost:8080/"
        },
        "id": "KZ9lTYYuQy9b",
        "outputId": "12c85b6e-d5ed-4e2d-9381-778c8586931b"
      },
      "execution_count": 23,
      "outputs": [
        {
          "output_type": "stream",
          "name": "stdout",
          "text": [
            "Enter a number: 5\n",
            "The factorial of 5 is 120\n"
          ]
        }
      ]
    },
    {
      "cell_type": "markdown",
      "source": [
        "Write a program to print a right angle triangle using the for loop."
      ],
      "metadata": {
        "id": "aPzy9_NFRw5q"
      }
    },
    {
      "cell_type": "code",
      "source": [
        "# Number of rows for the triangle\n",
        "rows = 7\n",
        "\n",
        "# Loop through each row\n",
        "for i in range(1, rows + 1):\n",
        "    # Print '*' i times\n",
        "    for j in range(i):\n",
        "        print('*', end=' ')\n",
        "    # Move to the next line after each row\n",
        "    print()\n"
      ],
      "metadata": {
        "colab": {
          "base_uri": "https://localhost:8080/"
        },
        "id": "LDXntnYiRxqS",
        "outputId": "c365a433-e0aa-4188-b3c5-641d63b21e70"
      },
      "execution_count": 25,
      "outputs": [
        {
          "output_type": "stream",
          "name": "stdout",
          "text": [
            "* \n",
            "* * \n",
            "* * * \n",
            "* * * * \n",
            "* * * * * \n",
            "* * * * * * \n",
            "* * * * * * * \n"
          ]
        }
      ]
    },
    {
      "cell_type": "markdown",
      "source": [
        "# Exercise on Functions"
      ],
      "metadata": {
        "id": "dByJlojMSDAq"
      }
    },
    {
      "cell_type": "markdown",
      "source": [
        "Make a simple calculator that can add, subtract, multiply and divide two numbers using function."
      ],
      "metadata": {
        "id": "eJm9sn6NSJi5"
      }
    },
    {
      "cell_type": "code",
      "source": [
        "def add(a, b):\n",
        "    return a + b\n",
        "\n",
        "def subtract(a, b):\n",
        "    return a - b\n",
        "\n",
        "def multiply(a, b):\n",
        "    return a * b\n",
        "\n",
        "def divide(a, b):\n",
        "    if b == 0:\n",
        "        return \"Error! Division by zero.\"\n",
        "    return a / b\n",
        "\n",
        "print(\"Select Operation\")\n",
        "print(\"1. Add\")\n",
        "print(\"2. Subtract\")\n",
        "print(\"3. Multiply\")\n",
        "print(\"4. Divide\")\n",
        "\n",
        "op = input(\"Select which operation to perform (1/2/3/4): \")\n",
        "a = float(input(\"Enter First number: \"))\n",
        "b = float(input(\"Enter Second number: \"))\n",
        "\n",
        "if op == \"1\":\n",
        "    print(a, \"+\", b, \"=\", add(a, b))\n",
        "elif op == \"2\":\n",
        "    print(a, \"-\", b, \"=\", subtract(a, b))\n",
        "elif op == \"3\":\n",
        "    print(a, \"*\", b, \"=\", multiply(a, b))\n",
        "elif op == \"4\":\n",
        "    print(a, \"/\", b, \"=\", divide(a, b))\n",
        "else:\n",
        "    print(\"Invalid input! Please select a valid operation.\")\n"
      ],
      "metadata": {
        "colab": {
          "base_uri": "https://localhost:8080/"
        },
        "id": "8plg9wUmSDud",
        "outputId": "092cdc03-7b1c-4cf7-d565-7c566ef5761f"
      },
      "execution_count": 36,
      "outputs": [
        {
          "output_type": "stream",
          "name": "stdout",
          "text": [
            "Select Operation\n",
            "1. Add\n",
            "2. Subtract\n",
            "3. Multiply\n",
            "4. Divide\n",
            "Select which operation to perform (1/2/3/4): 3\n",
            "Enter First number: 2.5\n",
            "Enter Second number: 0.5\n",
            "2.5 * 0.5 = 1.25\n"
          ]
        }
      ]
    },
    {
      "cell_type": "markdown",
      "source": [
        "# Exercise on List and Dictionaries"
      ],
      "metadata": {
        "id": "dAX2FPYQXGon"
      }
    },
    {
      "cell_type": "markdown",
      "source": [
        "*   Remove the first duplicate element of a list\n",
        "\n"
      ],
      "metadata": {
        "id": "boWkUREuXvsy"
      }
    },
    {
      "cell_type": "code",
      "source": [
        "List= [1,5,6,8,6,5,2,8,10,4]\n",
        "print(\"Original List\\n\", List)\n",
        "unique_list = list(set(List))\n",
        "print(\"Modified List\\n\", unique_list)"
      ],
      "metadata": {
        "colab": {
          "base_uri": "https://localhost:8080/"
        },
        "id": "JYJu99cWXrV5",
        "outputId": "a2578ed0-db5b-4364-e1c4-7ad023c5fdd3"
      },
      "execution_count": 41,
      "outputs": [
        {
          "output_type": "stream",
          "name": "stdout",
          "text": [
            "Original List\n",
            " [1, 5, 6, 8, 6, 5, 2, 8, 10, 4]\n",
            "Modified List\n",
            " [1, 2, 4, 5, 6, 8, 10]\n"
          ]
        }
      ]
    },
    {
      "cell_type": "markdown",
      "source": [
        "*   Write a Python program to create a new dictionary by extracting the mentioned keys from the below dictionary.\n",
        "sample_dict = { \"name\": \"Anderson\", \"age\": 35, \"salary\": 5000, \"city\": \"London\"}\n",
        "keys = [\"name\", \"salary\"]\n",
        "\n"
      ],
      "metadata": {
        "id": "jFYYgmJaX0Sl"
      }
    },
    {
      "cell_type": "code",
      "source": [
        "sample_dict = { \"name\": \"Anderson\", \"age\": 35, \"salary\": 5000, \"city\": \"London\"}\n",
        "keys = [\"name\", \"salary\"]\n",
        "new_dic = {k: sample_dict[k] for k in keys}\n",
        "print(new_dic)"
      ],
      "metadata": {
        "colab": {
          "base_uri": "https://localhost:8080/"
        },
        "id": "5T-GMc5rZfFP",
        "outputId": "7376b0b8-1556-412b-ef2e-848fa545ccd9"
      },
      "execution_count": 43,
      "outputs": [
        {
          "output_type": "stream",
          "name": "stdout",
          "text": [
            "{'name': 'Anderson', 'salary': 5000}\n"
          ]
        }
      ]
    },
    {
      "cell_type": "markdown",
      "source": [
        "*   Write a Python program to convert two lists into a dictionary in a way that item from list_one is the key and item from list_two is the value.\n",
        "list_one = ['one', 'two', 'three']\n",
        "list_two = [1, 2, 3]\n",
        "\n"
      ],
      "metadata": {
        "id": "O2h4YS2kX1MA"
      }
    },
    {
      "cell_type": "code",
      "source": [
        "list_one = ['one', 'two', 'three']\n",
        "list_two = [1, 2, 3]\n",
        "dic = dict(zip(list_one, list_two))\n",
        "print(dic)"
      ],
      "metadata": {
        "colab": {
          "base_uri": "https://localhost:8080/"
        },
        "id": "NmRm-2TEbOW6",
        "outputId": "2c1520ed-48cd-4c6b-9bc3-eee70271a3ac"
      },
      "execution_count": 44,
      "outputs": [
        {
          "output_type": "stream",
          "name": "stdout",
          "text": [
            "{'one': 1, 'two': 2, 'three': 3}\n"
          ]
        }
      ]
    }
  ]
}